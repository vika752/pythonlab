{
 "cells": [
  {
   "cell_type": "code",
   "execution_count": 1,
   "metadata": {},
   "outputs": [
    {
     "name": "stdout",
     "output_type": "stream",
     "text": [
      "pygame 1.9.6\n",
      "Hello from the pygame community. https://www.pygame.org/contribute.html\n"
     ]
    }
   ],
   "source": [
    "import pygame\n",
    "from pygame.draw import *\n",
    "pygame.init()\n",
    "clock = pygame.time.Clock()\n",
    "\n",
    "FPS = 30\n",
    "screen = pygame.display.set_mode((400, 400))\n",
    "\n",
    "polygon(screen, (255, 255, 255), [(0,0), (0,400),\n",
    "                       (400,400), (400,0)])\n",
    "circle(screen, (255, 185, 0), (200, 175), 150)\n",
    "polygon(screen, (0, 0, 0), [(220, 105), (240, 150),\n",
    "                            (350,120), (370,75)])\n",
    "\n",
    "circle(screen, (255, 0, 0), (280, 175), 30)\n",
    "circle(screen, (0, 0, 0), (280, 175), 15)\n",
    "\n",
    "circle(screen, (255, 0, 0), (120, 175), 30)\n",
    "circle(screen, (0, 0, 0), (120, 175), 15)\n",
    "\n",
    "polygon(screen, (0, 0, 0), [(50, 50), (40, 60),\n",
    "                           (140, 160), (150, 150)])\n",
    "\n",
    "polygon(screen, (0, 0, 0), [(150, 250), (150, 300),\n",
    "                           (250, 300), (250, 250)])\n",
    "\n",
    "pygame.display.update()\n",
    "clock = pygame.time.Clock()\n",
    "finished = False\n",
    "\n",
    "while not finished:\n",
    "    clock.tick(FPS)\n",
    "    for event in pygame.event.get():\n",
    "        if event.type == pygame.QUIT:\n",
    "            finished = True\n",
    "\n",
    "pygame.quit()"
   ]
  },
  {
   "cell_type": "code",
   "execution_count": null,
   "metadata": {},
   "outputs": [],
   "source": [
    "import pygame\n",
    "from pygame.draw import *\n",
    "pygame.init()\n",
    "clock = pygame.time.Clock()\n",
    "\n",
    "FPS = 30\n",
    "screen = pygame.display.set_mode((600, 900))\n",
    "WHITE = (255, 255, 255)\n",
    "BLACK = (0, 0, 0)\n",
    "GRAY = (205, 205, 205)\n",
    "DARK_GRAY = (105, 105, 105)\n",
    "LIGHT_BLUE = (64, 128, 255)\n",
    "GREEN = (0, 200, 64)\n",
    "YELLOW = (225, 225, 0)\n",
    "PINK = (230, 50, 230)\n",
    "#fon\n",
    "polygon(screen, LIGHT_BLUE, [(0,0), (0, 500),\n",
    "                              (600, 500), (600, 0)])\n",
    "polygon(screen, GRAY, [(0,500), (0, 800),\n",
    "                       (600, 800), (600, 500)])\n",
    "#prorub`\n",
    "ellipse(screen, DARK_GRAY, (300, 600, 200, 100))\n",
    "ellipse(screen, GREEN, (320, 620, 160, 80))\n",
    "#medved`\n",
    "#golova\n",
    "ellipse(screen, GRAY, (50, 400, 100, 50))\n",
    "circle(screen, BLACK, (100, 415), 3)\n",
    "line(screen, BLACK, (100, 435), (150, 430), 1)\n",
    "circle(screen, BLACK, (150, 425), 3)\n",
    "\n",
    "pygame.display.update()\n",
    "clock = pygame.time.Clock()\n",
    "finished = False\n",
    "\n",
    "while not finished:\n",
    "    clock.tick(FPS)\n",
    "    for event in pygame.event.get():\n",
    "        if event.type == pygame.QUIT:\n",
    "            finished = True\n",
    "\n",
    "pygame.quit()"
   ]
  },
  {
   "cell_type": "code",
   "execution_count": null,
   "metadata": {},
   "outputs": [],
   "source": []
  }
 ],
 "metadata": {
  "kernelspec": {
   "display_name": "Python 3",
   "language": "python",
   "name": "python3"
  },
  "language_info": {
   "codemirror_mode": {
    "name": "ipython",
    "version": 3
   },
   "file_extension": ".py",
   "mimetype": "text/x-python",
   "name": "python",
   "nbconvert_exporter": "python",
   "pygments_lexer": "ipython3",
   "version": "3.8.5"
  }
 },
 "nbformat": 4,
 "nbformat_minor": 4
}
